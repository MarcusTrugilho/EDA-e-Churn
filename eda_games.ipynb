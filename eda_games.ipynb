{
 "cells": [
  {
   "cell_type": "markdown",
   "metadata": {},
   "source": [
    "## Para iniciar as análises e preparação para a modelagem, vamos entender e preparar os datasets para criar uma base de treino e teste para os modelos preditivos."
   ]
  },
  {
   "cell_type": "markdown",
   "metadata": {},
   "source": [
    "### Começamos improtando todas as bibliotecas necessárias para esse trabalho."
   ]
  },
  {
   "cell_type": "code",
   "execution_count": null,
   "metadata": {},
   "outputs": [],
   "source": [
    "import os\n",
    "import pandas as pd\n",
    "import numpy as np\n",
    "import matplotlib.pyplot as plt\n",
    "\n",
    "# Vamos retirar a restrição de limite de colunas visíveis para ficar mais fácil visualizar as features.\n",
    "pd.set_option('display.max_columns', None)"
   ]
  },
  {
   "cell_type": "code",
   "execution_count": null,
   "metadata": {},
   "outputs": [],
   "source": [
    "# Vamos abrir as tabelas .csv extraídas da base de dados do app como dataframes de trabalho.\n",
    "users = pd.read_csv('../CSVs/tbl_users.csv', sep=';', low_memory=False)\n",
    "events = pd.read_csv('../CSVs/tbl_events.csv', low_memory=False)\n",
    "users_events = pd.read_csv('../CSVs/tbl_users_events.csv', low_memory=False)\n",
    "analise = pd.read_csv('../CSVs/gg_analise_db1.csv', sep=';', low_memory=False)\n",
    "users_games = pd.read_csv('../CSVs/tbl_users_games.csv', low_memory=False)\n",
    "games = pd.read_json('../CSVs/tbl_games.json')\n",
    "friends = pd.read_csv('../CSVs/tbl_friends.csv', low_memory=False)\n",
    "chats = pd.read_csv('../CSVs/tbl_chat_members.csv', low_memory=False)\n",
    "plataformas = pd.read_csv('../CSVs/tbl_platforms.csv', low_memory=False)\n",
    "platforms = pd.read_csv('../CSVs/tbl_users_platforms.csv', low_memory=False)\n",
    "logs = pd.read_csv('../CSVs/tbl_users_login_log.csv', low_memory=False)"
   ]
  },
  {
   "cell_type": "markdown",
   "metadata": {},
   "source": [
    "### Vamos começar o trabalho de organização, limpeza e engenharia de features."
   ]
  },
  {
   "cell_type": "code",
   "execution_count": null,
   "metadata": {},
   "outputs": [],
   "source": [
    "# Ao tentar fazer a mudança para INT, apareceram erros devido a alguns dados da coluna não serem numéricos.\n",
    "# Aí eu busquei esses registros, que eram poucos, para eliminar as linhas.\n",
    "users.loc[users['id']=='   \"']\n",
    "users.loc[users['id']=='?>\"']\n",
    "\n",
    "# Eliminando as linhas problemáticas.\n",
    "users.drop(index=16790, inplace=True)\n",
    "users.drop(index=22557, inplace=True)\n",
    "\n",
    "# Aí, sim, alterando a coluna id para INT.\n",
    "users.id = users.id.astype(int)"
   ]
  },
  {
   "cell_type": "code",
   "execution_count": null,
   "metadata": {},
   "outputs": [],
   "source": [
    "# Definindo o ID como index e renomeando para 'user_id'.\n",
    "gg_users = users.set_index('id', drop=True)\n",
    "gg_users.rename_axis('user_id', inplace=True)"
   ]
  },
  {
   "cell_type": "markdown",
   "metadata": {},
   "source": [
    "### Agora, vamos trabalhar algumas features em diferentes tabelas para criar as métricas que vamos utilizar para tentar identificar comportamentos dos usuários no app."
   ]
  },
  {
   "cell_type": "code",
   "execution_count": null,
   "metadata": {},
   "outputs": [],
   "source": [
    "# Vamos agrupar os jogos por user_id para calcular a quantidade de jogos que\n",
    "# cada usuário tem cadastrado no app e preparar para concatenar ao dataset principal.\n",
    "grouped_games = users_games.groupby(by='user_id').count()\n",
    "grouped_games.rename(columns={'id':'qtde_games'}, inplace=True)\n",
    "grouped_games.drop(columns=['game_id', \n",
    "                            'platform_id', \n",
    "                            'network_id', \n",
    "                            'is_favorite', \n",
    "                            'status_id'], \n",
    "                   inplace=True\n",
    "                  )"
   ]
  },
  {
   "cell_type": "code",
   "execution_count": null,
   "metadata": {},
   "outputs": [],
   "source": [
    "# Vamos fazer o mesmo para a quantidade de Grupos criados ('events').\n",
    "events.rename(columns={'created_by':'user_id'}, inplace=True)\n",
    "grouped_events = events.groupby(by='user_id').count()\n",
    "grouped_events.rename(columns={'id':'qtde_grupos'}, inplace=True)\n",
    "grouped_events.drop(grouped_events.iloc[:, 1:], inplace = True, axis = 1) "
   ]
  },
  {
   "cell_type": "code",
   "execution_count": null,
   "metadata": {},
   "outputs": [],
   "source": [
    "# E o mesmo para a quantidade de conexões ('friends').\n",
    "grouped_friends = friends.groupby(by='user_id').count()\n",
    "grouped_friends.drop(columns=['id'], inplace=True)\n",
    "grouped_friends.rename(columns={'friend_id':'qtde_contatos'}, inplace=True)"
   ]
  },
  {
   "cell_type": "code",
   "execution_count": null,
   "metadata": {},
   "outputs": [],
   "source": [
    "# Também para as ações realizadas pelos usuários no app ('users_events'). \n",
    "grouped_user_events = users_events.groupby(by='user_id').count()\n",
    "grouped_user_events.rename(columns={'id':'qtde_eventos'}, inplace=True)\n",
    "grouped_user_events.drop(grouped_user_events.iloc[:, 1:], inplace = True, axis = 1) "
   ]
  },
  {
   "cell_type": "code",
   "execution_count": null,
   "metadata": {},
   "outputs": [],
   "source": [
    "# E também para as mensagens de chat trocadas por cada usuário ('chats').\n",
    "chats_grouped = chats.groupby(by='user_id').count()\n",
    "chats_grouped.rename(columns={'chat_id':'qtde_mensagens'}, inplace=True)\n",
    "chats_grouped.drop(chats_grouped.iloc[:, 1:], inplace = True, axis = 1) "
   ]
  },
  {
   "cell_type": "code",
   "execution_count": null,
   "metadata": {},
   "outputs": [],
   "source": [
    "# Tambem para a quantidade de Plataformas cadastradas ('platforms').\n",
    "platforms_grouped = platforms.groupby(by='user_id').count()\n",
    "platforms_grouped.rename(columns={'id':'qtde_plataformas'}, inplace=True)\n",
    "platforms_grouped.drop(platforms_grouped.iloc[:, 1:], inplace = True, axis = 1) "
   ]
  },
  {
   "cell_type": "code",
   "execution_count": null,
   "metadata": {},
   "outputs": [],
   "source": [
    "# E, por fim, para a quantidade de logins realizados pelo usuários, o que mostra a frequência de acessos ('logs').\n",
    "grouped_logs = logs.groupby(by='user_id').count()\n",
    "grouped_logs.rename(columns={'id':'qtde_acessos'}, inplace=True)\n",
    "grouped_logs.drop(columns=['login_datetime'], inplace=True)"
   ]
  },
  {
   "cell_type": "code",
   "execution_count": null,
   "metadata": {},
   "outputs": [],
   "source": [
    "# Agora concatenamos todas as features junto com o dataset principal.\n",
    "users_gg = pd.concat([gg_users, \n",
    "                      grouped_games, \n",
    "                      grouped_events, \n",
    "                      grouped_friends, \n",
    "                      grouped_user_events, \n",
    "                      chats_grouped, \n",
    "                      platforms_grouped, \n",
    "                      grouped_logs], \n",
    "                      axis = 1\n",
    "                    )"
   ]
  },
  {
   "cell_type": "code",
   "execution_count": null,
   "metadata": {},
   "outputs": [],
   "source": [
    "# Os dados nulos precisam ser entendidos pelo modelo, então vamos tratá-los como 0, \n",
    "# pois significa que o usuário não tem nenhuma daquelas features cadastradas.\n",
    "users_gg[\"qtde_games\"].fillna(0, inplace=True)\n",
    "users_gg[\"qtde_grupos\"].fillna(0, inplace=True)\n",
    "users_gg[\"qtde_contatos\"].fillna(0, inplace=True)\n",
    "users_gg[\"qtde_eventos\"].fillna(0, inplace=True)\n",
    "users_gg[\"qtde_mensagens\"].fillna(0, inplace=True)\n",
    "users_gg[\"qtde_plataformas\"].fillna(0, inplace=True)\n",
    "users_gg[\"qtde_acessos\"].fillna(0, inplace=True)"
   ]
  },
  {
   "cell_type": "code",
   "execution_count": null,
   "metadata": {},
   "outputs": [],
   "source": [
    "# Eliminando as linhas que não têm informação de last_login. Não serão úteis.\n",
    "users_gg.dropna(how='any', subset=['last_login'], inplace=True)"
   ]
  },
  {
   "cell_type": "code",
   "execution_count": null,
   "metadata": {},
   "outputs": [],
   "source": [
    "# Ao tentar converter creation_datetime, que é string, para o formato datetime, \n",
    "# deu erro porque alguma linha tinha valor '0000-00-00 00:00:00'.\n",
    "# Precisamos encontrar essa(s) linha(s) e eliminá-la(s).\n",
    "users_gg.loc[users_gg['creation_datetime']=='0000-00-00 00:00:00']"
   ]
  },
  {
   "cell_type": "code",
   "execution_count": null,
   "metadata": {},
   "outputs": [],
   "source": [
    "users_gg.drop(labels=49211, inplace=True)"
   ]
  },
  {
   "cell_type": "code",
   "execution_count": null,
   "metadata": {},
   "outputs": [],
   "source": [
    "# Agora vamos converter todos os timestamps para datetime.\n",
    "users_gg['creation_datetime'] = pd.to_datetime(users_gg['creation_datetime'])\n",
    "users_gg['last_login'] = pd.to_datetime(users_gg['last_login'])\n",
    "users_gg['last_interaction'] = pd.to_datetime(users_gg['last_interaction'])\n",
    "\n",
    "# Depois vamos criar uma coluna de churn, com base no número de dias de inatividade \n",
    "# entre hoje e a data de último login. Se for maior que 30 dias, consideramos churn.\n",
    "# Essa coluna será o nosso targets para os modelos.\n",
    "# Definimos 30 dias de acordo com o que a área de negócios considera um período \n",
    "# indicativo de parada de uso do app.\n",
    "curr_time = pd.to_datetime(\"now\")\n",
    "users_gg['inatividade'] = curr_time - users_gg['last_interaction']\n",
    "users_gg['inatividade_days'] = users_gg['inatividade'].dt.days\n",
    "users_gg['churn'] = users_gg['inatividade_days']>30"
   ]
  },
  {
   "cell_type": "code",
   "execution_count": null,
   "metadata": {},
   "outputs": [],
   "source": [
    "# Agora vamos criar uma coluna que nos diga quanto tempo o usuário passou dentro do app \n",
    "# entre o primeiro login 'creation_datetime' e a última interação 'last_interaction'.\n",
    "# E vamos criar outra coluna identificando aqueles que ficaram menos de 30 dias no app.\n",
    "users_gg['tempo_uso'] = users_gg['last_interaction'] - users_gg['creation_datetime']\n",
    "users_gg['tempo_uso_days'] = users_gg['tempo_uso'].dt.days\n",
    "users_gg['pouco_uso'] = users_gg['tempo_uso_days']<30"
   ]
  },
  {
   "cell_type": "code",
   "execution_count": null,
   "metadata": {},
   "outputs": [],
   "source": [
    "plt.hist('tempo_uso_days', bins=20, data=users_gg)"
   ]
  },
  {
   "cell_type": "markdown",
   "metadata": {},
   "source": [
    "### Vemos que cerca de 20% dos usuários tiveram menos de 30 dias de uso do app.\n",
    "### "
   ]
  },
  {
   "cell_type": "markdown",
   "metadata": {},
   "source": [
    "### Agora, como a empresa começou a fazer modificações no app e iniciou ações de marketing para atração de novos usuários a partir de Julho de 2020, definimos com a área de negócios que vamos trabalhar com os usuários que entraram a partir dessa data apenas, desconsiderando os usuários antigos."
   ]
  },
  {
   "cell_type": "code",
   "execution_count": null,
   "metadata": {},
   "outputs": [],
   "source": [
    "gg_dataset = users_gg.loc[users_gg['creation_datetime']>'2020-07-01']"
   ]
  },
  {
   "cell_type": "markdown",
   "metadata": {},
   "source": [
    "### Analisando as features nesse período, vemos que há muitas sem qualquer valor e uma grande quantidade delas são strings, que precisarão ser convertidas em números para a análise dos modelos.\n",
    "### Vamos eliminar as nulas e ver como tratar as incompletas."
   ]
  },
  {
   "cell_type": "code",
   "execution_count": null,
   "metadata": {},
   "outputs": [],
   "source": [
    "gg_dataset.dropna(how='all', axis=1, inplace=True)"
   ]
  },
  {
   "cell_type": "code",
   "execution_count": null,
   "metadata": {},
   "outputs": [],
   "source": [
    "gg_dataset.info()"
   ]
  },
  {
   "cell_type": "code",
   "execution_count": null,
   "metadata": {},
   "outputs": [],
   "source": [
    "# Algumas features não nos serão úteis pois contém informações irrelevantes para as análises.\n",
    "# Vamos eliminá-las.\n",
    "gg_dataset = gg_dataset.drop(columns=['pass_hash', \n",
    "                                           'uploaded_photo_timestamp', \n",
    "                                           'top_image', \n",
    "                                           'profile_bg_id', \n",
    "                                           'phone_country', \n",
    "                                           'update_datetime', \n",
    "                                           'remember_token', \n",
    "                                           'access_token', \n",
    "                                           'special_mark', \n",
    "                                           'firebase_id']\n",
    "                                 )"
   ]
  },
  {
   "cell_type": "code",
   "execution_count": null,
   "metadata": {},
   "outputs": [],
   "source": [
    "# agora, pra facilitar as análises numéricas, vamos transformas algumas colunas em categóricas.\n",
    "# Por exemplo, vamos considerar apenas a presença ou não de avatar, sem especificar qual.\n",
    "# Da mesma forma, a presença ou não de ID para as plataformas, sem considerar o ID específico.\n",
    "gg_dataset['email'] = np.where(gg_dataset['email'].isnull(), 0, 1)\n",
    "gg_dataset['name'] = np.where(gg_dataset['name'].isnull(), 0, 1)\n",
    "gg_dataset['nickname'] = np.where(gg_dataset['nickname'].isnull(), 0, 1)\n",
    "gg_dataset['avatar'] = np.where(gg_dataset['avatar'].isnull(), 0, 1)\n",
    "gg_dataset['profile_pic_id'] = np.where(gg_dataset['profile_pic_id'].isnull(), 0, 1)\n",
    "gg_dataset['city'] = np.where(gg_dataset['city'].isnull(), 0, 1)\n",
    "gg_dataset['ip_country_code'] = np.where(gg_dataset['ip_country_code']=='BR', 1, 0)\n",
    "gg_dataset['fbid'] = np.where(gg_dataset['fbid'].isnull(), 0, 1)\n",
    "gg_dataset['quickblox_id'] = np.where(gg_dataset['quickblox_id'].isnull(), 0, 1)\n",
    "gg_dataset['steam_id'] = np.where(gg_dataset['steam_id'].isnull(), 0, 1)\n",
    "gg_dataset['psn_id'] = np.where(gg_dataset['psn_id'].isnull(), 0, 1)\n",
    "gg_dataset['xboxlive_id'] = np.where(gg_dataset['xboxlive_id'].isnull(), 0, 1)\n",
    "gg_dataset['nintendo_id'] = np.where(gg_dataset['nintendo_id'].isnull(), 0, 1)\n",
    "gg_dataset['gamecenter_id'] = np.where(gg_dataset['gamecenter_id'].isnull(), 0, 1)\n",
    "gg_dataset['googleplay_id'] = np.where(gg_dataset['googleplay_id'].isnull(), 0, 1)\n",
    "gg_dataset['battlenet_id'] = np.where(gg_dataset['battlenet_id'].isnull(), 0, 1)\n",
    "gg_dataset['uplay_id'] = np.where(gg_dataset['uplay_id'].isnull(), 0, 1)\n",
    "gg_dataset['origin_id'] = np.where(gg_dataset['origin_id'].isnull(), 0, 1)\n",
    "gg_dataset['youtube_id'] = np.where(gg_dataset['youtube_id'].isnull(), 0, 1)\n",
    "gg_dataset['twitch_id'] = np.where(gg_dataset['twitch_id'].isnull(), 0, 1)\n",
    "gg_dataset['phone_number'] = np.where(gg_dataset['phone_number'].isnull(), 0, 1)"
   ]
  },
  {
   "cell_type": "code",
   "execution_count": null,
   "metadata": {},
   "outputs": [],
   "source": [
    "gg_dataset['lng'] = gg_dataset['lng'].astype('float64')"
   ]
  },
  {
   "cell_type": "code",
   "execution_count": null,
   "metadata": {},
   "outputs": [],
   "source": [
    "gg_dataset.info()"
   ]
  },
  {
   "cell_type": "code",
   "execution_count": null,
   "metadata": {},
   "outputs": [],
   "source": [
    "# Creating a dataframe with 30% registers of original dataframe \n",
    "gg_30 = gg_dataset.sample(frac = 0.3) \n",
    "  \n",
    "# Creating dataframe with the rest of the 70% registers \n",
    "gg_70 = gg_dataset.drop(gg_30.index) \n",
    "  \n",
    "print(\"\\n30% of the givem DataFrame:\") \n",
    "print(gg_30.info()) \n",
    "  \n",
    "print(\"\\nrest 70% of the given DataFrame:\") \n",
    "print(gg_70.info())"
   ]
  },
  {
   "cell_type": "code",
   "execution_count": null,
   "metadata": {},
   "outputs": [],
   "source": [
    "gg_train = gg_70.copy()"
   ]
  },
  {
   "cell_type": "code",
   "execution_count": null,
   "metadata": {},
   "outputs": [],
   "source": [
    "gg_test = gg_30.copy()\n",
    "gg_test.drop(columns=['churn'], inplace=True)"
   ]
  },
  {
   "cell_type": "code",
   "execution_count": null,
   "metadata": {},
   "outputs": [],
   "source": [
    "gg_train.to_csv('../CSVs/games_train.csv')"
   ]
  },
  {
   "cell_type": "code",
   "execution_count": null,
   "metadata": {},
   "outputs": [],
   "source": [
    "gg_test.to_csv('../CSVs/games_test.csv')"
   ]
  }
 ],
 "metadata": {
  "kernelspec": {
   "display_name": "Python 3",
   "language": "python",
   "name": "python3"
  },
  "language_info": {
   "codemirror_mode": {
    "name": "ipython",
    "version": 3
   },
   "file_extension": ".py",
   "mimetype": "text/x-python",
   "name": "python",
   "nbconvert_exporter": "python",
   "pygments_lexer": "ipython3",
   "version": "3.8.3"
  }
 },
 "nbformat": 4,
 "nbformat_minor": 4
}
