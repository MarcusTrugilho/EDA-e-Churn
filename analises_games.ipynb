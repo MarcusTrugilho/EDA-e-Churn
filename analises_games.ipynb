{
 "cells": [
  {
   "cell_type": "code",
   "execution_count": null,
   "metadata": {},
   "outputs": [],
   "source": [
    "# Importar as bibliotecas necessárias\n",
    "import os\n",
    "import pandas as pd\n",
    "import numpy as np\n",
    "import seaborn as sns\n",
    "import matplotlib.pyplot as plt\n",
    "from scipy.stats import norm\n",
    "pd.set_option('display.max_columns', None)"
   ]
  },
  {
   "cell_type": "code",
   "execution_count": null,
   "metadata": {},
   "outputs": [],
   "source": [
    "# Abrir as tabelas .csv como dataframes de trabalho\n",
    "users = pd.read_csv('../CSVs/tbl_users.csv', sep=';', low_memory=False)\n",
    "events = pd.read_csv('../CSVs/tbl_events.csv', low_memory=False)\n",
    "users_events = pd.read_csv('../CSVs/tbl_users_events.csv', low_memory=False)\n",
    "analise = pd.read_csv('../CSVs/gg_analise_db1.csv', sep=';', low_memory=False)\n",
    "users_games = pd.read_csv('../CSVs/tbl_users_games.csv', low_memory=False)\n",
    "games = pd.read_json('../CSVs/tbl_games.json')\n",
    "friends = pd.read_csv('../CSVs/tbl_friends.csv', low_memory=False)\n",
    "chats = pd.read_csv('../CSVs/tbl_chat_members.csv', low_memory=False)\n",
    "plataformas = pd.read_csv('../CSVs/tbl_platforms.csv', low_memory=False)\n",
    "platforms = pd.read_csv('../CSVs/tbl_users_platforms.csv', low_memory=False)\n",
    "logs = pd.read_csv('../CSVs/tbl_users_login_log.csv', low_memory=False)"
   ]
  },
  {
   "cell_type": "code",
   "execution_count": null,
   "metadata": {},
   "outputs": [],
   "source": [
    "# Ao tentar fazer a mudança para INT, apareceram erros devido a alguns dados da coluna não serem numéricos.\n",
    "# Aí eu busquei esses, que eram poucos, para eliminar as linhas.\n",
    "users.loc[users['id']=='   \"']\n",
    "users.loc[users['id']=='?>\"']\n",
    "\n",
    "# Eliminando as linhas problemáticas.\n",
    "users.drop(index=16790, inplace=True)\n",
    "users.drop(index=22557, inplace=True)\n",
    "\n",
    "# Aí, sim, alterando a coluna id para INT.\n",
    "users.id = users.id.astype(int)"
   ]
  },
  {
   "cell_type": "code",
   "execution_count": null,
   "metadata": {},
   "outputs": [],
   "source": [
    "gg_users = users.set_index('id', drop=True)\n",
    "gg_users.rename_axis('user_id', inplace=True)"
   ]
  },
  {
   "cell_type": "code",
   "execution_count": null,
   "metadata": {},
   "outputs": [],
   "source": [
    "# Vamos agrupar diversas informações por id de usuário para facilitar as análises.\n",
    "\n",
    "grouped_games = users_games.groupby(by='user_id').count()\n",
    "grouped_games.rename(columns={'id':'qtde_games'}, inplace=True)\n",
    "grouped_games.drop(columns=['game_id', \n",
    "                            'platform_id', \n",
    "                            'network_id', \n",
    "                            'is_favorite', \n",
    "                            'status_id'], \n",
    "                   inplace=True\n",
    "                  )\n",
    "\n",
    "events.rename(columns={'created_by':'user_id'}, inplace=True)\n",
    "grouped_events = events.groupby(by='user_id').count()\n",
    "grouped_events.rename(columns={'id':'qtde_grupos'}, inplace=True)\n",
    "grouped_events.drop(grouped_events.iloc[:, 1:], inplace = True, axis = 1) \n",
    "\n",
    "grouped_friends = friends.groupby(by='user_id').count()\n",
    "grouped_friends.drop(columns=['id'], inplace=True)\n",
    "grouped_friends.rename(columns={'friend_id':'qtde_contatos'}, inplace=True)\n",
    "\n",
    "grouped_user_events = users_events.groupby(by='user_id').count()\n",
    "grouped_user_events.rename(columns={'id':'qtde_eventos'}, inplace=True)\n",
    "grouped_user_events.drop(grouped_user_events.iloc[:, 1:], inplace = True, axis = 1) \n",
    "\n",
    "chats_grouped = chats.groupby(by='user_id').count()\n",
    "chats_grouped.rename(columns={'chat_id':'qtde_mensagens'}, inplace=True)\n",
    "chats_grouped.drop(chats_grouped.iloc[:, 1:], inplace = True, axis = 1) \n",
    "\n",
    "platforms_grouped = platforms.groupby(by='user_id').count()\n",
    "platforms_grouped.rename(columns={'id':'qtde_plataformas'}, inplace=True)\n",
    "platforms_grouped.drop(platforms_grouped.iloc[:, 1:], inplace = True, axis = 1) \n",
    "\n",
    "grouped_logs = logs.groupby(by='user_id').count()\n",
    "grouped_logs.rename(columns={'id':'qtde_acessos'}, inplace=True)\n",
    "grouped_logs.drop(columns=['login_datetime'], inplace=True)"
   ]
  },
  {
   "cell_type": "code",
   "execution_count": null,
   "metadata": {},
   "outputs": [],
   "source": [
    "# Agora reunimos todos os dataframes em um único, com o user_id como chave.\n",
    "\n",
    "users_gg = pd.concat([gg_users, \n",
    "                      grouped_games, \n",
    "                      grouped_events, \n",
    "                      grouped_friends, \n",
    "                      grouped_user_events, \n",
    "                      chats_grouped, \n",
    "                      platforms_grouped, \n",
    "                      grouped_logs], \n",
    "                      axis = 1\n",
    "                    )"
   ]
  },
  {
   "cell_type": "code",
   "execution_count": null,
   "metadata": {},
   "outputs": [],
   "source": [
    "# Vamos preencher os dados faltantes com 0.\n",
    "\n",
    "users_gg[\"qtde_games\"].fillna(0, inplace=True)\n",
    "users_gg[\"qtde_grupos\"].fillna(0, inplace=True)\n",
    "users_gg[\"qtde_contatos\"].fillna(0, inplace=True)\n",
    "users_gg[\"qtde_eventos\"].fillna(0, inplace=True)\n",
    "users_gg[\"qtde_mensagens\"].fillna(0, inplace=True)\n",
    "users_gg[\"qtde_plataformas\"].fillna(0, inplace=True)\n",
    "users_gg[\"qtde_acessos\"].fillna(0, inplace=True)"
   ]
  },
  {
   "cell_type": "code",
   "execution_count": null,
   "metadata": {},
   "outputs": [],
   "source": [
    "users_gg"
   ]
  },
  {
   "cell_type": "code",
   "execution_count": null,
   "metadata": {},
   "outputs": [],
   "source": [
    "users_2020 = users_gg.loc[users_gg['creation_datetime'] > '2020-07-01']"
   ]
  },
  {
   "cell_type": "code",
   "execution_count": null,
   "metadata": {},
   "outputs": [],
   "source": [
    "users_2020.loc[users_2020['phone_number'].notnull()]"
   ]
  },
  {
   "cell_type": "code",
   "execution_count": null,
   "metadata": {},
   "outputs": [],
   "source": [
    "users_2020.info()"
   ]
  },
  {
   "cell_type": "markdown",
   "metadata": {},
   "source": [
    "### Verificando quais são os jogos com mais usuários no app."
   ]
  },
  {
   "cell_type": "code",
   "execution_count": null,
   "metadata": {},
   "outputs": [],
   "source": [
    "games"
   ]
  },
  {
   "cell_type": "code",
   "execution_count": null,
   "metadata": {},
   "outputs": [],
   "source": [
    "games.loc[games['rating'].notnull()]"
   ]
  },
  {
   "cell_type": "code",
   "execution_count": null,
   "metadata": {},
   "outputs": [],
   "source": [
    "games.rename(columns={'id':'game_id'}, inplace=True)\n",
    "games.set_index('game_id', inplace=True)\n",
    "\n",
    "# Vamos agrupar os dados de número de usuários por game_id. Assim saberemos quantos usuários cada jogo tem.\n",
    "\n",
    "usersgames_grouped = users_games.groupby(by='game_id').count()\n",
    "usersgames_grouped.rename(columns={'id':'qtde_users_by_game'}, inplace=True)\n",
    "usersgames_grouped.drop(usersgames_grouped.iloc[:, 1:], inplace = True, axis = 1) \n",
    "\n",
    "# Juntamos os dois dataframes para formar a base para os gráficos, com os nomes dos jogos.\n",
    "games_gg = pd.concat([games, usersgames_grouped], axis = 1)\n",
    "games_gg.drop(columns=['original_id', \n",
    "                       'slug', \n",
    "                       'cover_base_url', \n",
    "                       'cover_image_png'], \n",
    "              inplace=True\n",
    "             )\n",
    "games_gg[\"qtde_users_by_game\"].fillna(0, inplace=True)"
   ]
  },
  {
   "cell_type": "code",
   "execution_count": null,
   "metadata": {},
   "outputs": [],
   "source": [
    "games_gg"
   ]
  },
  {
   "cell_type": "code",
   "execution_count": null,
   "metadata": {},
   "outputs": [],
   "source": [
    "# Vamos ordenar a lista e selecionar os 30 maiores jogos para formar o gráfico.\n",
    "games_plot = games_gg.sort_values(\"qtde_users_by_game\", ascending=False).head(30)\n",
    "\n",
    "# Vamos ordenar novamente a lista e selecionar os 100 maiores jogos para calcular a média de usuários por jogo.\n",
    "games_plot2 = games_gg.sort_values(\"qtde_users_by_game\", ascending=False).head(100)"
   ]
  },
  {
   "cell_type": "code",
   "execution_count": null,
   "metadata": {},
   "outputs": [],
   "source": [
    "games_plot2.describe()"
   ]
  },
  {
   "cell_type": "code",
   "execution_count": null,
   "metadata": {},
   "outputs": [],
   "source": [
    "# Gerando o gráfico para analisar os usuários por jogo.\n",
    "\n",
    "ax = games_plot.plot(x='name', \n",
    "                     y='qtde_users_by_game', \n",
    "                     kind='barh', \n",
    "                     figsize=(12, 15), \n",
    "                     width=0.9,\n",
    "                     legend=False, \n",
    "                     xlim=(0, 13000), \n",
    "                     color='#28b4e7',\n",
    "                     fontsize=14\n",
    "                    )\n",
    "ax.invert_yaxis()\n",
    "ax.set_title('Jogos preferidos pelos Usuários', fontsize=24, loc='center', pad=20)\n",
    "ax.set_xlabel('Quantidade de usuários por jogo', fontsize=14) \n",
    "ax.set_ylabel('Nome do jogo', fontsize=14) \n",
    "for p in ax.patches:\n",
    "    ax.annotate(str(int(p.get_width())), \n",
    "                (p.get_x() + p.get_width(), \n",
    "                p.get_y()+1), \n",
    "                xytext=(5, 10), \n",
    "                textcoords='offset points', \n",
    "                va='baseline', \n",
    "                fontsize=14, \n",
    "                fontweight='bold', \n",
    "                color='#4b4b4b'\n",
    "                )\n",
    "plt.savefig(os.path.join('../Imagens/users_by_game.pdf'), \n",
    "            dpi=300, \n",
    "            format='pdf', \n",
    "            bbox_inches='tight') # use format='svg' or 'pdf' for vectorial pictures"
   ]
  },
  {
   "cell_type": "markdown",
   "metadata": {},
   "source": [
    "### Verificando a quantidade de usuários por plataforma."
   ]
  },
  {
   "cell_type": "code",
   "execution_count": null,
   "metadata": {},
   "outputs": [],
   "source": [
    "plataformas"
   ]
  },
  {
   "cell_type": "code",
   "execution_count": null,
   "metadata": {},
   "outputs": [],
   "source": [
    "platforms"
   ]
  },
  {
   "cell_type": "code",
   "execution_count": null,
   "metadata": {},
   "outputs": [],
   "source": [
    "plataformas.rename(columns={'id':'platform_id'}, inplace=True)\n",
    "plataformas.set_index('platform_id', inplace=True)\n",
    "\n",
    "usersplats_grouped = platforms.groupby(by='platform_id').count()\n",
    "usersplats_grouped.rename(columns={'id':'qtde_users_by_plat'}, inplace=True)\n",
    "usersplats_grouped.drop(usersplats_grouped.iloc[:, 1:], inplace = True, axis = 1) \n",
    "\n",
    "plats_gg = pd.concat([plataformas, usersplats_grouped], axis = 1)\n",
    "plats_gg.drop(columns=['igdb_id', \n",
    "                       'icon', \n",
    "                       'network_id', \n",
    "                       'is_active'], \n",
    "              inplace=True\n",
    "             )"
   ]
  },
  {
   "cell_type": "code",
   "execution_count": null,
   "metadata": {},
   "outputs": [],
   "source": [
    "plats_gg.describe()"
   ]
  },
  {
   "cell_type": "code",
   "execution_count": null,
   "metadata": {},
   "outputs": [],
   "source": [
    "plats_plot = plats_gg.sort_values(\"qtde_users_by_plat\", ascending=False)"
   ]
  },
  {
   "cell_type": "code",
   "execution_count": null,
   "metadata": {},
   "outputs": [],
   "source": [
    "ax = plats_plot.plot(x='name', \n",
    "                     y='qtde_users_by_plat', \n",
    "                     kind='barh', \n",
    "                     figsize=(12, 15), \n",
    "                     width=0.9,\n",
    "                     legend=False, \n",
    "                     xlim=(0, 40000), \n",
    "                     color='#28b4e7',\n",
    "                     fontsize=14\n",
    "                    )\n",
    "ax.invert_yaxis()\n",
    "ax.set_title('Plataformas preferidas pelos Usuários', fontsize=24, loc='center', pad=20)\n",
    "ax.set_xlabel('Quantidade de usuários por plataforma', fontsize=14) \n",
    "ax.set_ylabel('Nome da Plataforma', fontsize=14) \n",
    "for p in ax.patches:\n",
    "    ax.annotate(str(int(p.get_width())), \n",
    "                (p.get_x() + p.get_width(), \n",
    "                p.get_y()+1), \n",
    "                xytext=(5, 10), \n",
    "                textcoords='offset points', \n",
    "                va='baseline', \n",
    "                fontsize=14, \n",
    "                fontweight='bold', \n",
    "                color='#4b4b4b'\n",
    "                )\n",
    "plt.savefig(os.path.join('../Imagens/users_by_platform.pdf'), \n",
    "            dpi=300, \n",
    "            format='pdf', \n",
    "            bbox_inches='tight') # use format='svg' or 'pdf' for vectorial pictures"
   ]
  },
  {
   "cell_type": "code",
   "execution_count": null,
   "metadata": {},
   "outputs": [],
   "source": [
    "print(f'Quantidade de Jogos máxima:       {users_gg[\"qtde_games\"].max()}')\n",
    "print(f'Quantidade de Grupos máxima:      {users_gg[\"qtde_grupos\"].max()}')\n",
    "print(f'Quantidade de Contatos máxima:    {users_gg[\"qtde_contatos\"].max()}')\n",
    "print(f'Quantidade de Eventos máxima:     {users_gg[\"qtde_eventos\"].max()}')\n",
    "print(f'Quantidade de Mensagens máxima:   {users_gg[\"qtde_mensagens\"].max()}')\n",
    "print(f'Quantidade de Plataformas máxima: {users_gg[\"qtde_plataformas\"].max()}')\n",
    "print(f'Quantidade de Acessos máxima:     {users_gg[\"qtde_acessos\"].max()}')"
   ]
  },
  {
   "cell_type": "code",
   "execution_count": null,
   "metadata": {},
   "outputs": [],
   "source": [
    "print(f'Quantidade de Jogos média:       {round(users_gg[\"qtde_games\"].mean(), ndigits=2)}')\n",
    "print(f'Quantidade de Grupos média:      {round(users_gg[\"qtde_grupos\"].mean(), ndigits=2)}')\n",
    "print(f'Quantidade de Contatos média:    {round(users_gg[\"qtde_contatos\"].mean(), ndigits=2)}')\n",
    "print(f'Quantidade de Eventos média:     {round(users_gg[\"qtde_eventos\"].mean(), ndigits=2)}')\n",
    "print(f'Quantidade de Mensagens média:   {round(users_gg[\"qtde_mensagens\"].mean(), ndigits=2)}')\n",
    "print(f'Quantidade de Plataformas média: {round(users_gg[\"qtde_plataformas\"].mean(), ndigits=2)}')\n",
    "print(f'Quantidade de Acessos média:     {round(users_gg[\"qtde_acessos\"].mean(), ndigits=2)}')"
   ]
  },
  {
   "cell_type": "code",
   "execution_count": null,
   "metadata": {},
   "outputs": [],
   "source": [
    "users_stats = users_gg[['qtde_games', \n",
    "                        'qtde_grupos', \n",
    "                        'qtde_contatos', \n",
    "                        'qtde_eventos', \n",
    "                        'qtde_mensagens', \n",
    "                        'qtde_plataformas', \n",
    "                        'qtde_acessos']]"
   ]
  }
 ],
 "metadata": {
  "kernelspec": {
   "display_name": "Python 3",
   "language": "python",
   "name": "python3"
  },
  "language_info": {
   "codemirror_mode": {
    "name": "ipython",
    "version": 3
   },
   "file_extension": ".py",
   "mimetype": "text/x-python",
   "name": "python",
   "nbconvert_exporter": "python",
   "pygments_lexer": "ipython3",
   "version": "3.8.3"
  }
 },
 "nbformat": 4,
 "nbformat_minor": 4
}
